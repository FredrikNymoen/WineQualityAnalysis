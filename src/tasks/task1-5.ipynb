{
 "cells": [
  {
   "cell_type": "code",
   "execution_count": 1,
   "id": "98930faa",
   "metadata": {},
   "outputs": [],
   "source": [
    "import sys\n",
    "from pathlib import Path\n",
    "import pandas as pd\n",
    "\n",
    "ROOT = Path.cwd().parents[1] \n",
    "sys.path.append(str(ROOT / \"src\"))\n",
    "\n",
    "df = pd.read_csv(\"../../data/wineQT.csv\")"
   ]
  },
  {
   "cell_type": "code",
   "execution_count": 20,
   "id": "6a963c1c",
   "metadata": {},
   "outputs": [
    {
     "name": "stdout",
     "output_type": "stream",
     "text": [
      "   fold       MSE      RMSE        R2\n",
      "0     1  0.380034  0.616469  0.317066\n",
      "1     2  0.459056  0.677537  0.303433\n",
      "2     3  0.508919  0.713386  0.278150\n",
      "3     4  0.412722  0.642435  0.301956\n",
      "4     5  0.441733  0.664630  0.460100\n",
      "Mean:\n",
      " fold    3.000000\n",
      "MSE     0.440493\n",
      "RMSE    0.662891\n",
      "R2      0.332141\n",
      "dtype: float64\n",
      "Variance:\n",
      " fold    2.500000\n",
      "MSE     0.002364\n",
      "RMSE    0.001335\n",
      "R2      0.005313\n",
      "dtype: float64\n"
     ]
    }
   ],
   "source": [
    "from sklearn.model_selection import ShuffleSplit\n",
    "from sklearn.metrics import mean_squared_error, r2_score\n",
    "import numpy as np\n",
    "from gdLinear import GDLinearReg\n",
    "\n",
    "# features = alle kolonner unntatt target og Id\n",
    "X = df.drop(columns=[\"quality\", \"Id\"]).values\n",
    "y = df[\"quality\"].values\n",
    "\n",
    "# standardiser X\n",
    "X = (X - X.mean(axis=0)) / X.std(axis=0)\n",
    "\n",
    "cv = ShuffleSplit(n_splits=5, test_size=0.2, random_state=42)\n",
    "\n",
    "results_multi = []\n",
    "preds_multi = []\n",
    "\n",
    "for fold, (train_idx, test_idx) in enumerate(cv.split(X)):\n",
    "    X_train, X_test = X[train_idx], X[test_idx]\n",
    "    y_train, y_test = y[train_idx], y[test_idx]\n",
    "\n",
    "    model = GDLinearReg(lr=0.01, n_iter=5000)\n",
    "    model.fit(X_train, y_train)\n",
    "    y_pred = model.predict(X_test)\n",
    "\n",
    "    mse = mean_squared_error(y_test, y_pred)\n",
    "    rmse = np.sqrt(mse)\n",
    "    r2 = r2_score(y_test, y_pred)\n",
    "\n",
    "    results_multi.append({\"fold\": fold+1, \"MSE\": mse, \"RMSE\": rmse, \"R2\": r2})\n",
    "    preds_multi.extend(\n",
    "        {\"fold\": fold+1, \"y_test\": float(t), \"y_pred\": float(p)}\n",
    "        for t, p in zip(y_test, y_pred)\n",
    "    )\n",
    "\n",
    "results_multi_df = pd.DataFrame(results_multi)\n",
    "preds_multi_df = pd.DataFrame(preds_multi, columns=[\"fold\", \"y_test\", \"y_pred\"])\n",
    "print(results_multi_df)\n",
    "print(\"Mean:\\n\", results_multi_df.mean(numeric_only=True))\n",
    "print(\"Variance:\\n\", results_multi_df.var(numeric_only=True))\n",
    "\n",
    "results_multi_df.to_csv(\"../outputs/metrics/multipleFeaturesGDResults.csv\", index=False)\n",
    "preds_multi_df.to_csv(\"../outputs/metrics/multipleFeaturesGDPreds.csv\", index=False)\n"
   ]
  },
  {
   "cell_type": "markdown",
   "id": "e8554ad3",
   "metadata": {},
   "source": [
    "Evaluation of the model that used all the features:\n",
    "Mean MSE: ~0.44, RMSE: ~0.66, R²: ~0.33\n",
    "Variance of MSE, RMSE, R² are all low, indicating consistent performance across folds.\n",
    "Using all features significantly improves performance compared to single-feature models.\n",
    "The model explains about 33% of the variance in wine quality, showing that multiple features together provide a much better prediction.\n",
    "In comparison, the single-feature models had much lower R² values (0.19 for alcohol and 0.02 for chlorides), indicating they captured far less of the variation in quality."
   ]
  },
  {
   "cell_type": "code",
   "execution_count": 21,
   "id": "62afef64",
   "metadata": {},
   "outputs": [
    {
     "data": {
      "image/png": "[encoded data removed]",
      "text/plain": [
       "<Figure size 800x500 with 1 Axes>"
      ]
     },
     "metadata": {},
     "output_type": "display_data"
    }
   ],
   "source": [
    "import matplotlib.pyplot as plt\n",
    "import pandas as pd\n",
    "\n",
    "# === Load predictions ===\n",
    "preds_alc  = pd.read_csv(\"../outputs/metrics/alcoholGDPreds.csv\")\n",
    "preds_mult = pd.read_csv(\"../outputs/metrics/multipleFeaturesGDPreds.csv\")\n",
    "\n",
    "# Legg til residuals\n",
    "preds_alc[\"residual\"] = preds_alc[\"y_test\"] - preds_alc[\"y_pred\"]\n",
    "preds_mult[\"residual\"] = preds_mult[\"y_test\"] - preds_mult[\"y_pred\"]\n",
    "\n",
    "plt.figure(figsize=(8,5))\n",
    "plt.hist(preds_alc[\"residual\"], bins=30, alpha=0.5, label=\"Simple (Alcohol)\")\n",
    "plt.hist(preds_mult[\"residual\"], bins=30, alpha=0.5, label=\"Multiple (All features)\")\n",
    "plt.xlabel(\"Residual\")\n",
    "plt.ylabel(\"Frequency\")\n",
    "plt.title(\"Histogram of Residuals\")\n",
    "plt.legend()\n",
    "plt.tight_layout()\n",
    "plt.savefig(\"../figures/residualsAlcoholVsMultipleModels.png\", bbox_inches=\"tight\")\n",
    "plt.show()"
   ]
  },
  {
   "cell_type": "markdown",
   "id": "d7a15d77",
   "metadata": {},
   "source": [
    "The multiple regression model performs better than the simple regression model with alcohol as the only predictor. This is evident from several evaluation metrics:\n",
    "Lower MSE and RMSE: The multiple regression model consistently achieves lower error values across folds, meaning its predictions are closer to the true wine quality scores.\n",
    "Higher R²: Multiple regression explains a larger proportion of the variance in wine quality compared to alcohol alone, showing that additional features improve predictive power.\n",
    "Residual distribution: In the histogram, the residuals of the multiple features regression model are more tightly centered around zero and show less spread compared to the simple regression model. \n",
    "This indicates that the multiple regression model makes fewer large errors and is more accurate overall."
   ]
  }
 ],
 "metadata": {
  "kernelspec": {
   "display_name": ".venv",
   "language": "python",
   "name": "python3"
  },
  "language_info": {
   "codemirror_mode": {
    "name": "ipython",
    "version": 3
   },
   "file_extension": ".py",
   "mimetype": "text/x-python",
   "name": "python",
   "nbconvert_exporter": "python",
   "pygments_lexer": "ipython3",
   "version": "3.13.7"
  }
 },
 "nbformat": 4,
 "nbformat_minor": 5
}
