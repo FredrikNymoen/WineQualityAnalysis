{
 "cells": [
  {
   "cell_type": "code",
   "execution_count": 1,
   "id": "20995830",
   "metadata": {},
   "outputs": [],
   "source": [
    "import sys\n",
    "from pathlib import Path\n",
    "import pandas as pd\n",
    "\n",
    "ROOT = Path.cwd().parents[1] \n",
    "sys.path.append(str(ROOT / \"src\"))\n",
    "\n",
    "df = pd.read_csv(\"../../data/wineQT.csv\")"
   ]
  },
  {
   "cell_type": "code",
   "execution_count": 11,
   "id": "471cfead",
   "metadata": {},
   "outputs": [
    {
     "name": "stdout",
     "output_type": "stream",
     "text": [
      "   fold       MSE      RMSE        R2\n",
      "0     1  0.417547  0.646179  0.249654\n",
      "1     2  0.550013  0.741628  0.165416\n",
      "2     3  0.633242  0.795765  0.101810\n",
      "3     4  0.506718  0.711841  0.142979\n",
      "4     5  0.564604  0.751401  0.309924\n",
      "Mean:\n",
      " fold    3.000000\n",
      "MSE     0.534425\n",
      "RMSE    0.729363\n",
      "R2      0.193957\n",
      "dtype: float64\n",
      "Variance:\n",
      " fold    2.500000\n",
      "MSE     0.006337\n",
      "RMSE    0.003068\n",
      "R2      0.007114\n",
      "dtype: float64\n"
     ]
    }
   ],
   "source": [
    "from sklearn.model_selection import ShuffleSplit\n",
    "from sklearn.metrics import mean_squared_error, r2_score\n",
    "import numpy as np\n",
    "from gdLinear import GDLinearReg\n",
    "\n",
    "X = df[[\"alcohol\"]].values\n",
    "y = df[\"quality\"].values\n",
    "\n",
    "# standarize X (important for gradient descent)\n",
    "X = (X - X.mean()) / X.std()\n",
    "\n",
    "# make 5 splits with 20% test data\n",
    "cv = ShuffleSplit(n_splits=5, test_size=0.2, random_state=42)\n",
    "\n",
    "results = []\n",
    "preds = []\n",
    "\n",
    "for fold, (train_idx, test_idx) in enumerate(cv.split(X)):\n",
    "    X_train, X_test = X[train_idx], X[test_idx]\n",
    "    y_train, y_test = y[train_idx], y[test_idx]\n",
    "\n",
    "    # train model\n",
    "    model = GDLinearReg(lr=0.01, n_iter=5000)\n",
    "    model.fit(X_train, y_train)\n",
    "    y_pred = model.predict(X_test)\n",
    "\n",
    "    # evaluate\n",
    "    mse = mean_squared_error(y_test, y_pred) # Mean Squared Error\n",
    "    rmse = np.sqrt(mse) # Root Mean Squared Error\n",
    "    r2 = r2_score(y_test, y_pred) # R^2 Score (how much of the variance is explained by the model, 1 is perfect, 0 means no better than mean, negative means worse than mean)\n",
    "\n",
    "    results.append({\"fold\": fold+1, \"MSE\": mse, \"RMSE\": rmse, \"R2\": r2})\n",
    "    preds.extend(\n",
    "        {\"fold\": fold+1, \"y_test\": float(t), \"y_pred\": float(p)}\n",
    "        for t, p in zip(y_test, y_pred)\n",
    "    )\n",
    "\n",
    "\n",
    "# add to dataframe for overview\n",
    "results_df = pd.DataFrame(results)\n",
    "preds_df = pd.DataFrame(preds, columns=[\"fold\", \"y_test\", \"y_pred\"])\n",
    "print(results_df)\n",
    "print(\"Mean:\\n\", results_df.mean(numeric_only=True)) #mean of each column\n",
    "print(\"Variance:\\n\", results_df.var(numeric_only=True))\n",
    "\n",
    "results_df.to_csv(\"../outputs/metrics/alcoholGDResults.csv\", index=False)\n",
    "preds_df.to_csv(\"../outputs/metrics/alcoholGDPreds.csv\", index=False)"
   ]
  },
  {
   "cell_type": "code",
   "execution_count": 7,
   "id": "16cf3853",
   "metadata": {},
   "outputs": [
    {
     "name": "stdout",
     "output_type": "stream",
     "text": [
      "   fold       MSE      RMSE        R2\n",
      "0     1  0.559137  0.747755 -0.004787\n",
      "1     2  0.641522  0.800951  0.026561\n",
      "2     3  0.694106  0.833130  0.015482\n",
      "3     4  0.584760  0.764696  0.010985\n",
      "4     5  0.795159  0.891717  0.028133\n",
      "Mean:\n",
      " fold    3.000000\n",
      "MSE     0.654937\n",
      "RMSE    0.807650\n",
      "R2      0.015275\n",
      "dtype: float64\n",
      "Variance:\n",
      " fold    2.500000\n",
      "MSE     0.008870\n",
      "RMSE    0.003298\n",
      "R2      0.000178\n",
      "dtype: float64\n"
     ]
    }
   ],
   "source": [
    "X = df[[\"chlorides\"]].values\n",
    "y = df[\"quality\"].values\n",
    "\n",
    "# standarize X (important for gradient descent)\n",
    "X = (X - X.mean()) / X.std()\n",
    "\n",
    "# make 5 splits with 20% test data\n",
    "cv = ShuffleSplit(n_splits=5, test_size=0.2, random_state=42)\n",
    "\n",
    "results = []\n",
    "\n",
    "for fold, (train_idx, test_idx) in enumerate(cv.split(X)):\n",
    "    X_train, X_test = X[train_idx], X[test_idx]\n",
    "    y_train, y_test = y[train_idx], y[test_idx]\n",
    "\n",
    "    # train model\n",
    "    model = GDLinearReg(lr=0.01, n_iter=5000)\n",
    "    model.fit(X_train, y_train)\n",
    "    y_pred = model.predict(X_test)\n",
    "\n",
    "    # evaluate\n",
    "    mse = mean_squared_error(y_test, y_pred) # Mean Squared Error\n",
    "    rmse = np.sqrt(mse) # Root Mean Squared Error\n",
    "    r2 = r2_score(y_test, y_pred) # R^2 Score (how much of the variance is explained by the model, 1 is perfect, 0 means no better than mean, negative means worse than mean)\n",
    "\n",
    "    results.append({\"fold\": fold+1, \"MSE\": mse, \"RMSE\": rmse, \"R2\": r2})\n",
    "\n",
    "# add to dataframe for overview\n",
    "results_df = pd.DataFrame(results)\n",
    "print(results_df)\n",
    "print(\"Mean:\\n\", results_df.mean(numeric_only=True)) #mean of each column\n",
    "print(\"Variance:\\n\", results_df.var(numeric_only=True))"
   ]
  },
  {
   "cell_type": "code",
   "execution_count": null,
   "id": "64c5dfed",
   "metadata": {},
   "outputs": [],
   "source": [
    "#Alcohol as predictor:\n",
    "#The results show that using alcohol alone as a predictor gives a mean MSE of about 0.53, RMSE of 0.73, and an average R² of around 0.19 across the five folds. \n",
    "#This indicates that alcohol explains roughly 19% of the variation in wine quality, which makes it a moderately useful predictor. \n",
    "#The relatively low RMSE (compared to the 0–10 scale of quality) suggests the model captures some signal, but still leaves substantial error unexplained.\n",
    "\n",
    "#Chlorides as predictor:\n",
    "#When using chlorides, the mean MSE increases to about 0.65, RMSE to 0.81, and the average R² drops close to 0.01.\n",
    "#This means chlorides explain almost none of the variation in quality. \n",
    "#The model essentially predicts close to the average quality regardless of chloride level, making chlorides a very weak predictor."
   ]
  },
  {
   "cell_type": "code",
   "execution_count": null,
   "id": "2e69adb2",
   "metadata": {},
   "outputs": [],
   "source": [
    "#The models underfit. Both alcohol and chlorides as single predictors achieve very low mean R² values (0.19 for alcohol and 0.02 for chlorides). \n",
    "#This shows that the models capture only a small fraction of the variation in wine quality. \n",
    "#Since wine quality depends on many different physicochemical features, using only one variable is too simplistic and leads to underfitting: the model is too limited to represent the true complexity of the data."
   ]
  },
  {
   "cell_type": "code",
   "execution_count": null,
   "id": "c0af94d2",
   "metadata": {},
   "outputs": [],
   "source": [
    "#Mean and variance of the metrics across folds:\n",
    "#Alcohol:\n",
    "#Mean MSE: ~0.53, RMSE: ~0.73, R²: ~0.19\n",
    "#Variance of MSE, RMSE, R² are all low, indicating consistent performance across folds.\n",
    "#Chlorides:\n",
    "#Mean MSE: ~0.65, RMSE: ~0.81, R²: ~0.02\n",
    "#Variance of MSE, RMSE, R² are also low here, indicating consistent performance across folds.\n",
    "\n",
    "#Both features yield stable results across folds, but alcohol consistently performs much better than chlorides. \n",
    "#However, the relatively low R² values in both cases indicate that neither feature alone is sufficient for accurate prediction."
   ]
  }
 ],
 "metadata": {
  "kernelspec": {
   "display_name": ".venv",
   "language": "python",
   "name": "python3"
  },
  "language_info": {
   "codemirror_mode": {
    "name": "ipython",
    "version": 3
   },
   "file_extension": ".py",
   "mimetype": "text/x-python",
   "name": "python",
   "nbconvert_exporter": "python",
   "pygments_lexer": "ipython3",
   "version": "3.13.7"
  }
 },
 "nbformat": 4,
 "nbformat_minor": 5
}
